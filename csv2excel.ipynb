{
 "cells": [
  {
   "cell_type": "code",
   "execution_count": 4,
   "metadata": {},
   "outputs": [],
   "source": [
    "import glob\n",
    "import pandas as pd\n",
    "\n",
    "# Define the directory where the CSV files are located\n",
    "csv_dir = \"D:\\\\Python Projects\\\\e-commerce data kaggle\\\\olist_dataset\\\\\"\n",
    "\n",
    "# Define the output XLSX file name\n",
    "xlsx_file = \"D:\\\\Python Projects\\\\e-commerce data kaggle\\\\olist_dataset\\\\output.xlsx\""
   ]
  },
  {
   "cell_type": "code",
   "execution_count": 5,
   "metadata": {},
   "outputs": [
    {
     "name": "stdout",
     "output_type": "stream",
     "text": [
      "customers\n",
      "geolocation\n",
      "orders\n",
      "order_items\n",
      "order_payments\n",
      "order_reviews\n",
      "pcnt\n",
      "products\n",
      "sellers\n"
     ]
    }
   ],
   "source": [
    "# Create an empty list to store the DataFrames and sheet names\n",
    "dfs = []\n",
    "sheet_names = []\n",
    "\n",
    "# Loop through each CSV file in the directory and add it to the list of DataFrames\n",
    "for csv_file in glob.glob(csv_dir + '*.csv'):\n",
    "    # Extract the sheet name from the file name\n",
    "    sheet_name = csv_file.split('\\\\')[-1].split('.')[0]\n",
    "    print(sheet_name)\n",
    "    # Read in the CSV file as a Pandas DataFrame\n",
    "    df = pd.read_csv(csv_file)\n",
    "    \n",
    "    # Append the DataFrame and sheet name to their respective lists\n",
    "    dfs.append(df)\n",
    "    sheet_names.append(sheet_name)"
   ]
  }
 ],
 "metadata": {
  "kernelspec": {
   "display_name": "base",
   "language": "python",
   "name": "python3"
  },
  "language_info": {
   "codemirror_mode": {
    "name": "ipython",
    "version": 3
   },
   "file_extension": ".py",
   "mimetype": "text/x-python",
   "name": "python",
   "nbconvert_exporter": "python",
   "pygments_lexer": "ipython3",
   "version": "3.8.3"
  },
  "orig_nbformat": 4
 },
 "nbformat": 4,
 "nbformat_minor": 2
}
